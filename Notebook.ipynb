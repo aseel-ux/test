{
  "cells": [
    {
      "cell_type": "markdown",
      "metadata": {
        "id": "view-in-github",
        "colab_type": "text"
      },
      "source": [
        "<a href=\"https://colab.research.google.com/github/aseel-ux/test/blob/main/Notebook.ipynb\" target=\"_parent\"><img src=\"https://colab.research.google.com/assets/colab-badge.svg\" alt=\"Open In Colab\"/></a>"
      ]
    },
    {
      "cell_type": "code",
      "execution_count": null,
      "id": "4ab41322-e22c-471d-8b36-ae9d29add143",
      "metadata": {
        "id": "4ab41322-e22c-471d-8b36-ae9d29add143"
      },
      "outputs": [],
      "source": [
        "print(\"hello world\")"
      ]
    },
    {
      "cell_type": "markdown",
      "id": "2901c792-7106-4c00-8512-05609ab00ac1",
      "metadata": {
        "id": "2901c792-7106-4c00-8512-05609ab00ac1"
      },
      "source": [
        "#Cloud Computing"
      ]
    },
    {
      "cell_type": "markdown",
      "id": "f57318b6-f17c-4b45-b1e1-0835deaf6f61",
      "metadata": {
        "id": "f57318b6-f17c-4b45-b1e1-0835deaf6f61"
      },
      "source": [
        "- 1 flexible\n",
        "- 2 reliable\n",
        "[رابط إلى Google](https://www.google.com)"
      ]
    },
    {
      "cell_type": "code",
      "execution_count": null,
      "id": "8764a448-d8ac-4e9e-9ad2-3c0bc097e4d1",
      "metadata": {
        "id": "8764a448-d8ac-4e9e-9ad2-3c0bc097e4d1"
      },
      "outputs": [],
      "source": []
    },
    {
      "cell_type": "code",
      "source": [
        "import pandas as pd\n",
        "\n",
        "data = {\n",
        "    'الاسم': ['أحمد', 'محمد', 'فاطمة'],\n",
        "    'العمر': [25, 30, 22],\n",
        "    'المدينة': ['الرياض', 'جدة', 'مكة']\n",
        "}\n",
        "\n",
        "df = pd.DataFrame(data)\n"
      ],
      "metadata": {
        "id": "eHgT7rVLVw78"
      },
      "id": "eHgT7rVLVw78",
      "execution_count": 1,
      "outputs": []
    },
    {
      "cell_type": "code",
      "source": [],
      "metadata": {
        "id": "d8yWow3HWUNN"
      },
      "id": "d8yWow3HWUNN",
      "execution_count": null,
      "outputs": []
    }
  ],
  "metadata": {
    "kernelspec": {
      "display_name": "",
      "name": ""
    },
    "language_info": {
      "name": ""
    },
    "colab": {
      "provenance": [],
      "include_colab_link": true
    }
  },
  "nbformat": 4,
  "nbformat_minor": 5
}