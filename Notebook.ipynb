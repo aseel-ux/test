{
 "cells": [
  {
   "cell_type": "code",
   "execution_count": null,
   "id": "4ab41322-e22c-471d-8b36-ae9d29add143",
   "metadata": {},
   "outputs": [],
   "source": [
    "print(\"hello world\")"
   ]
  },
  {
   "cell_type": "markdown",
   "id": "2901c792-7106-4c00-8512-05609ab00ac1",
   "metadata": {},
   "source": [
    "#Cloud Computing"
   ]
  },
  {
   "cell_type": "markdown",
   "id": "f57318b6-f17c-4b45-b1e1-0835deaf6f61",
   "metadata": {},
   "source": [
    "- 1 flexible\n",
    "- 2 reliable\n",
    "[رابط إلى Google](https://www.google.com)"
   ]
  },
  {
   "cell_type": "code",
   "execution_count": null,
   "id": "8764a448-d8ac-4e9e-9ad2-3c0bc097e4d1",
   "metadata": {},
   "outputs": [],
   "source": []
  }
 ],
 "metadata": {
  "kernelspec": {
   "display_name": "",
   "name": ""
  },
  "language_info": {
   "name": ""
  }
 },
 "nbformat": 4,
 "nbformat_minor": 5
}
